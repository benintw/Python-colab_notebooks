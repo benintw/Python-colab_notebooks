{
  "nbformat": 4,
  "nbformat_minor": 0,
  "metadata": {
    "colab": {
      "name": "Try_Except.ipynb",
      "provenance": [],
      "toc_visible": true,
      "authorship_tag": "ABX9TyOmJj8DmH0rSyLlC2m96Lrk",
      "include_colab_link": true
    },
    "kernelspec": {
      "name": "python3",
      "display_name": "Python 3"
    },
    "language_info": {
      "name": "python"
    }
  },
  "cells": [
    {
      "cell_type": "markdown",
      "metadata": {
        "id": "view-in-github",
        "colab_type": "text"
      },
      "source": [
        "<a href=\"https://colab.research.google.com/github/benintw/Python-colab_notebooks/blob/main/Try_Except.ipynb\" target=\"_parent\"><img src=\"https://colab.research.google.com/assets/colab-badge.svg\" alt=\"Open In Colab\"/></a>"
      ]
    },
    {
      "cell_type": "code",
      "execution_count": 1,
      "metadata": {
        "colab": {
          "base_uri": "https://localhost:8080/"
        },
        "id": "GgLi0-o6CjJh",
        "outputId": "4f130833-3ec2-4f9a-c131-108275dc4347"
      },
      "outputs": [
        {
          "output_type": "stream",
          "name": "stdout",
          "text": [
            "Current speed: 60. Too Slow\n",
            "Current speed: 100\n",
            "Current speed: 150. Too Fast\n"
          ]
        }
      ],
      "source": [
        "def checkSpeed(speed):\n",
        "  if speed < 70:\n",
        "    raise Exception (\"Too Slow\")\n",
        "  if speed > 110:\n",
        "    raise Exception (\"Too Fast\")\n",
        "\n",
        "for speed in (60,100,150):\n",
        "  try:\n",
        "    checkSpeed(speed)\n",
        "  except Exception as e:\n",
        "    print(f\"Current speed: {speed}. {e}\")\n",
        "  else:\n",
        "    print(\"Current speed: {}\" .format(speed))\n"
      ]
    },
    {
      "cell_type": "code",
      "source": [
        "class MyException(RuntimeError):\n",
        "  def __init__(self, arg):\n",
        "    self.args = arg\n",
        "\n",
        "def checkSpeed(speed):\n",
        "  if speed < 70:\n",
        "    raise Exception (\"Too Slow\")\n",
        "  if speed > 110:\n",
        "    raise Exception (\"Too Fast\")\n",
        "\n",
        "def convertTuple(tup):\n",
        "    str1 = ''.join(tup)\n",
        "    return str1\n",
        "\n",
        "\n",
        "for speed in (60,100,150):\n",
        "    try:\n",
        "        checkSpeed(speed)\n",
        "\n",
        "    except MyException as e:\n",
        "        err = convertTuple(e.args)\n",
        "        print(\"Current speed: {}, {}\".format(speed,err))\n",
        "    except Exception as e:\n",
        "        print(f\"Current speed: {speed}. {e}\")\n",
        "\n"
      ],
      "metadata": {
        "colab": {
          "base_uri": "https://localhost:8080/"
        },
        "id": "ULbjaq4yCleZ",
        "outputId": "6d55f206-b144-4182-e406-19a200f1a3d0"
      },
      "execution_count": 2,
      "outputs": [
        {
          "output_type": "stream",
          "name": "stdout",
          "text": [
            "Current speed: 60. Too Slow\n",
            "Current speed: 150. Too Fast\n"
          ]
        }
      ]
    },
    {
      "cell_type": "markdown",
      "source": [
        "### Assert"
      ],
      "metadata": {
        "id": "xwS5IA4TC6Md"
      }
    },
    {
      "cell_type": "code",
      "source": [
        "class Car():\n",
        "    def __init__(self, speed):\n",
        "        self.speed = speed\n",
        "\n",
        "    def Turbo(self,n):\n",
        "        assert speed >= 0, 'Speed cannot be negative'\n",
        "        self.speed +=n\n",
        "\n",
        "for speed in (60,-20):\n",
        "    bus = Car(speed)\n",
        "    print(\"Initial speed = \",bus.speed,  end=\" \")\n",
        "    bus.Turbo(50)\n",
        "    print(\"After turbo, speed = \", bus.speed)\n",
        "\n"
      ],
      "metadata": {
        "colab": {
          "base_uri": "https://localhost:8080/",
          "height": 385
        },
        "id": "8YDbktirC8gu",
        "outputId": "7bd9de89-90a9-44e4-d5eb-ed539b02bfc8"
      },
      "execution_count": 5,
      "outputs": [
        {
          "output_type": "stream",
          "name": "stdout",
          "text": [
            "Initial speed =  60 After turbo, speed =  110\n",
            "Initial speed =  -20 "
          ]
        },
        {
          "output_type": "error",
          "ename": "AssertionError",
          "evalue": "ignored",
          "traceback": [
            "\u001b[0;31m---------------------------------------------------------------------------\u001b[0m",
            "\u001b[0;31mAssertionError\u001b[0m                            Traceback (most recent call last)",
            "\u001b[0;32m<ipython-input-5-fe7b348a9898>\u001b[0m in \u001b[0;36m<module>\u001b[0;34m()\u001b[0m\n\u001b[1;32m     10\u001b[0m     \u001b[0mbus\u001b[0m \u001b[0;34m=\u001b[0m \u001b[0mCar\u001b[0m\u001b[0;34m(\u001b[0m\u001b[0mspeed\u001b[0m\u001b[0;34m)\u001b[0m\u001b[0;34m\u001b[0m\u001b[0;34m\u001b[0m\u001b[0m\n\u001b[1;32m     11\u001b[0m     \u001b[0mprint\u001b[0m\u001b[0;34m(\u001b[0m\u001b[0;34m\"Initial speed = \"\u001b[0m\u001b[0;34m,\u001b[0m\u001b[0mbus\u001b[0m\u001b[0;34m.\u001b[0m\u001b[0mspeed\u001b[0m\u001b[0;34m,\u001b[0m  \u001b[0mend\u001b[0m\u001b[0;34m=\u001b[0m\u001b[0;34m\" \"\u001b[0m\u001b[0;34m)\u001b[0m\u001b[0;34m\u001b[0m\u001b[0;34m\u001b[0m\u001b[0m\n\u001b[0;32m---> 12\u001b[0;31m     \u001b[0mbus\u001b[0m\u001b[0;34m.\u001b[0m\u001b[0mTurbo\u001b[0m\u001b[0;34m(\u001b[0m\u001b[0;36m50\u001b[0m\u001b[0;34m)\u001b[0m\u001b[0;34m\u001b[0m\u001b[0;34m\u001b[0m\u001b[0m\n\u001b[0m\u001b[1;32m     13\u001b[0m     \u001b[0mprint\u001b[0m\u001b[0;34m(\u001b[0m\u001b[0;34m\"After turbo, speed = \"\u001b[0m\u001b[0;34m,\u001b[0m \u001b[0mbus\u001b[0m\u001b[0;34m.\u001b[0m\u001b[0mspeed\u001b[0m\u001b[0;34m)\u001b[0m\u001b[0;34m\u001b[0m\u001b[0;34m\u001b[0m\u001b[0m\n\u001b[1;32m     14\u001b[0m \u001b[0;34m\u001b[0m\u001b[0m\n",
            "\u001b[0;32m<ipython-input-5-fe7b348a9898>\u001b[0m in \u001b[0;36mTurbo\u001b[0;34m(self, n)\u001b[0m\n\u001b[1;32m      4\u001b[0m \u001b[0;34m\u001b[0m\u001b[0m\n\u001b[1;32m      5\u001b[0m     \u001b[0;32mdef\u001b[0m \u001b[0mTurbo\u001b[0m\u001b[0;34m(\u001b[0m\u001b[0mself\u001b[0m\u001b[0;34m,\u001b[0m\u001b[0mn\u001b[0m\u001b[0;34m)\u001b[0m\u001b[0;34m:\u001b[0m\u001b[0;34m\u001b[0m\u001b[0;34m\u001b[0m\u001b[0m\n\u001b[0;32m----> 6\u001b[0;31m         \u001b[0;32massert\u001b[0m \u001b[0mspeed\u001b[0m \u001b[0;34m>=\u001b[0m \u001b[0;36m0\u001b[0m\u001b[0;34m,\u001b[0m \u001b[0;34m'Speed cannot be negative'\u001b[0m\u001b[0;34m\u001b[0m\u001b[0;34m\u001b[0m\u001b[0m\n\u001b[0m\u001b[1;32m      7\u001b[0m         \u001b[0mself\u001b[0m\u001b[0;34m.\u001b[0m\u001b[0mspeed\u001b[0m \u001b[0;34m+=\u001b[0m\u001b[0mn\u001b[0m\u001b[0;34m\u001b[0m\u001b[0;34m\u001b[0m\u001b[0m\n\u001b[1;32m      8\u001b[0m \u001b[0;34m\u001b[0m\u001b[0m\n",
            "\u001b[0;31mAssertionError\u001b[0m: Speed cannot be negative"
          ]
        }
      ]
    },
    {
      "cell_type": "code",
      "source": [
        ""
      ],
      "metadata": {
        "id": "xIL0SLPJEFh5"
      },
      "execution_count": null,
      "outputs": []
    }
  ]
}