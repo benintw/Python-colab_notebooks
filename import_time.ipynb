{
  "nbformat": 4,
  "nbformat_minor": 0,
  "metadata": {
    "colab": {
      "name": "import_time.ipynb",
      "provenance": [],
      "collapsed_sections": [],
      "authorship_tag": "ABX9TyPFe/3jF0xM3BBUkFFA3TQW",
      "include_colab_link": true
    },
    "kernelspec": {
      "name": "python3",
      "display_name": "Python 3"
    },
    "language_info": {
      "name": "python"
    }
  },
  "cells": [
    {
      "cell_type": "markdown",
      "metadata": {
        "id": "view-in-github",
        "colab_type": "text"
      },
      "source": [
        "<a href=\"https://colab.research.google.com/github/benintw/Python-colab_notebooks/blob/main/import_time.ipynb\" target=\"_parent\"><img src=\"https://colab.research.google.com/assets/colab-badge.svg\" alt=\"Open In Colab\"/></a>"
      ]
    },
    {
      "cell_type": "code",
      "execution_count": null,
      "metadata": {
        "id": "zW-JHBdkFxXl"
      },
      "outputs": [],
      "source": [
        "import time"
      ]
    },
    {
      "cell_type": "code",
      "source": [
        "print(time.time())"
      ],
      "metadata": {
        "colab": {
          "base_uri": "https://localhost:8080/"
        },
        "id": "KCkVMgbzFzgr",
        "outputId": "baed4505-c7f6-40d3-ba88-045dfa464308"
      },
      "execution_count": null,
      "outputs": [
        {
          "output_type": "stream",
          "name": "stdout",
          "text": [
            "1659285005.1975882\n"
          ]
        }
      ]
    },
    {
      "cell_type": "code",
      "source": [
        "start = time.time()\n",
        "\n",
        "for i in range(100):\n",
        "  time.sleep(0.01)\n",
        "\n",
        "end = time.time()\n",
        "print(\"Starting time: {}\".format(start))\n",
        "print(\"Ending time: {}\".format(end))\n",
        "print(\"Time taken: %f\" % (end-start))"
      ],
      "metadata": {
        "colab": {
          "base_uri": "https://localhost:8080/"
        },
        "id": "SuWGh-0YGuSP",
        "outputId": "44943e23-ad4a-4807-f1ce-6ef1818b246b"
      },
      "execution_count": null,
      "outputs": [
        {
          "output_type": "stream",
          "name": "stdout",
          "text": [
            "Starting time: 1659285441.8180451\n",
            "Ending time: 1659285442.8314393\n",
            "Time taken: 1.013394\n"
          ]
        }
      ]
    },
    {
      "cell_type": "code",
      "source": [
        "print(time.localtime())\n",
        "print((time.localtime()[0]))\n",
        "print(type(time.localtime()[0]))"
      ],
      "metadata": {
        "colab": {
          "base_uri": "https://localhost:8080/"
        },
        "id": "vOp1-QDmHMtg",
        "outputId": "c8cc81e4-da2c-482e-a98b-5567c23bd953"
      },
      "execution_count": null,
      "outputs": [
        {
          "output_type": "stream",
          "name": "stdout",
          "text": [
            "time.struct_time(tm_year=2022, tm_mon=7, tm_mday=31, tm_hour=16, tm_min=41, tm_sec=51, tm_wday=6, tm_yday=212, tm_isdst=0)\n",
            "2022\n",
            "<class 'int'>\n"
          ]
        }
      ]
    },
    {
      "cell_type": "code",
      "source": [
        "print(time.ctime())\n",
        "print(time.ctime(time.time()))"
      ],
      "metadata": {
        "colab": {
          "base_uri": "https://localhost:8080/"
        },
        "id": "lToxE9vzImTz",
        "outputId": "42060f22-ce74-4cf4-e38e-933436122759"
      },
      "execution_count": null,
      "outputs": [
        {
          "output_type": "stream",
          "name": "stdout",
          "text": [
            "Sun Jul 31 16:39:55 2022\n",
            "Sun Jul 31 16:39:55 2022\n"
          ]
        }
      ]
    },
    {
      "cell_type": "code",
      "source": [
        ""
      ],
      "metadata": {
        "id": "ayXJE98RI5Ti"
      },
      "execution_count": null,
      "outputs": []
    }
  ]
}