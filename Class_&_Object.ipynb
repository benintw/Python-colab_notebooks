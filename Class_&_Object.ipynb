{
  "nbformat": 4,
  "nbformat_minor": 0,
  "metadata": {
    "colab": {
      "name": "Class & Object",
      "provenance": [],
      "toc_visible": true,
      "authorship_tag": "ABX9TyN6B8HOA883Q9edmvCcF8to",
      "include_colab_link": true
    },
    "kernelspec": {
      "name": "python3",
      "display_name": "Python 3"
    },
    "language_info": {
      "name": "python"
    }
  },
  "cells": [
    {
      "cell_type": "markdown",
      "metadata": {
        "id": "view-in-github",
        "colab_type": "text"
      },
      "source": [
        "<a href=\"https://colab.research.google.com/github/benintw/Python-colab_notebooks/blob/main/Class_%26_Object.ipynb\" target=\"_parent\"><img src=\"https://colab.research.google.com/assets/colab-badge.svg\" alt=\"Open In Colab\"/></a>"
      ]
    },
    {
      "cell_type": "code",
      "execution_count": null,
      "metadata": {
        "id": "zRpOqCCgXQpd"
      },
      "outputs": [],
      "source": [
        "class Animal():\n",
        "  name = \"Bird\"\n",
        "  \n",
        "  def sing(self):\n",
        "    print(\"Bird is singing\")"
      ]
    },
    {
      "cell_type": "code",
      "source": [
        "bird = Animal()\n",
        "print(bird.name)\n",
        "bird.sing()"
      ],
      "metadata": {
        "colab": {
          "base_uri": "https://localhost:8080/"
        },
        "id": "KCMADdGLYVGB",
        "outputId": "f5d28d47-e891-4f82-f277-8d6c088b6d0f"
      },
      "execution_count": null,
      "outputs": [
        {
          "output_type": "stream",
          "name": "stdout",
          "text": [
            "Bird\n",
            "Bird is singing\n"
          ]
        }
      ]
    },
    {
      "cell_type": "code",
      "source": [
        "class Animal1():\n",
        "  def __init__(self,name:str):\n",
        "    self.name = name\n",
        "  \n",
        "  def sing(self):\n",
        "    print(self.name + \" is singing\")"
      ],
      "metadata": {
        "id": "icENH4GnYbpW"
      },
      "execution_count": null,
      "outputs": []
    },
    {
      "cell_type": "code",
      "source": [
        "bird1 = Animal1(\"Sparrow\")\n",
        "print(bird1.name)\n",
        "bird1.sing()"
      ],
      "metadata": {
        "colab": {
          "base_uri": "https://localhost:8080/"
        },
        "id": "nPqv-ABiYzgz",
        "outputId": "5528c37a-560c-42be-9a3c-47f7e5cd1242"
      },
      "execution_count": null,
      "outputs": [
        {
          "output_type": "stream",
          "name": "stdout",
          "text": [
            "Sparrow\n",
            "Sparrow is singing\n"
          ]
        }
      ]
    },
    {
      "cell_type": "code",
      "source": [
        "class Animal2:\n",
        "  def __init__(self,name:str, age:int):\n",
        "    self.name = name\n",
        "    self.age = age\n",
        "  \n",
        "  def sing(self) -> None:\n",
        "    print(self.name + str(self.age) + \" years old, is singing\")\n",
        "  \n",
        "  def grow(self) -> None:\n",
        "    print(\"grow older by 1 year.\")\n",
        "    self.age +=1"
      ],
      "metadata": {
        "id": "4Cc6b3TSY66j"
      },
      "execution_count": null,
      "outputs": []
    },
    {
      "cell_type": "code",
      "source": [
        "bird2 = Animal2(\"鸚鵡\",12)\n",
        "print(bird2.name)\n",
        "print(bird2.age)\n",
        "bird2.sing()\n",
        "\n",
        "bird2.grow()\n",
        "bird2.sing()\n"
      ],
      "metadata": {
        "colab": {
          "base_uri": "https://localhost:8080/"
        },
        "id": "QlPI1oTRZqVU",
        "outputId": "65044f23-dffa-4aab-862e-1a9c9291b036"
      },
      "execution_count": null,
      "outputs": [
        {
          "output_type": "stream",
          "name": "stdout",
          "text": [
            "鸚鵡\n",
            "12\n",
            "鸚鵡12 years old, is singing\n",
            "grow older by 1 year.\n",
            "鸚鵡13 years old, is singing\n"
          ]
        }
      ]
    },
    {
      "cell_type": "code",
      "source": [
        "class Animal3:\n",
        "  def __init__(self,name:str,age:int):\n",
        "    self.__name = name\n",
        "    self.__age = age\n",
        "  \n",
        "  def __sing(self):\n",
        "    print(self.__name + str(self.__age), end = ' year sold, is singing.')\n",
        "  \n",
        "  def talk(self):\n",
        "    self.__sing()\n",
        "    print(\"Can mock people\")"
      ],
      "metadata": {
        "id": "ktpV1vLpaA8p"
      },
      "execution_count": null,
      "outputs": []
    },
    {
      "cell_type": "code",
      "source": [
        "bird3 = Animal3(\"Peter\", 10)\n",
        "print(bird3.talk())\n",
        "bird3.__age = -1\n",
        "bird3.talk()\n",
        "bird3.__sing()"
      ],
      "metadata": {
        "colab": {
          "base_uri": "https://localhost:8080/",
          "height": 249
        },
        "id": "-DvHtaQ9bBTk",
        "outputId": "5053db0b-7ed7-483a-b486-80e1ae04f89b"
      },
      "execution_count": null,
      "outputs": [
        {
          "output_type": "stream",
          "name": "stdout",
          "text": [
            "Peter10 year sold, is singing.Can mock people\n",
            "None\n",
            "Peter10 year sold, is singing.Can mock people\n"
          ]
        },
        {
          "output_type": "error",
          "ename": "AttributeError",
          "evalue": "ignored",
          "traceback": [
            "\u001b[0;31m---------------------------------------------------------------------------\u001b[0m",
            "\u001b[0;31mAttributeError\u001b[0m                            Traceback (most recent call last)",
            "\u001b[0;32m<ipython-input-35-80801bb22d7f>\u001b[0m in \u001b[0;36m<module>\u001b[0;34m()\u001b[0m\n\u001b[1;32m      3\u001b[0m \u001b[0mbird3\u001b[0m\u001b[0;34m.\u001b[0m\u001b[0m__age\u001b[0m \u001b[0;34m=\u001b[0m \u001b[0;34m-\u001b[0m\u001b[0;36m1\u001b[0m\u001b[0;34m\u001b[0m\u001b[0;34m\u001b[0m\u001b[0m\n\u001b[1;32m      4\u001b[0m \u001b[0mbird3\u001b[0m\u001b[0;34m.\u001b[0m\u001b[0mtalk\u001b[0m\u001b[0;34m(\u001b[0m\u001b[0;34m)\u001b[0m\u001b[0;34m\u001b[0m\u001b[0;34m\u001b[0m\u001b[0m\n\u001b[0;32m----> 5\u001b[0;31m \u001b[0mbird3\u001b[0m\u001b[0;34m.\u001b[0m\u001b[0m__sing\u001b[0m\u001b[0;34m(\u001b[0m\u001b[0;34m)\u001b[0m\u001b[0;34m\u001b[0m\u001b[0;34m\u001b[0m\u001b[0m\n\u001b[0m",
            "\u001b[0;31mAttributeError\u001b[0m: 'Animal3' object has no attribute '__sing'"
          ]
        }
      ]
    },
    {
      "cell_type": "markdown",
      "source": [
        "## 6.3 Class inherentance"
      ],
      "metadata": {
        "id": "j0DZXtbabpUJ"
      }
    },
    {
      "cell_type": "code",
      "source": [
        "class Animal():\n",
        "  def __init__(self, name):\n",
        "    self.name = name\n",
        "  \n",
        "  def fly(self):\n",
        "    print(self.name + \" is flying.\")\n",
        "\n",
        "class Bird(Animal):\n",
        "  def __init__(self,name, age):\n",
        "    super().__init__(name)\n",
        "    self.age = age\n",
        "  \n",
        "  def fly(self):\n",
        "    print(str(self.age), end='yrs old')\n",
        "    super().fly()\n",
        "\n",
        "  def sing(self):\n",
        "    print(self.name + \" also loves to sing\")\n"
      ],
      "metadata": {
        "id": "7IckXeWNqveu"
      },
      "execution_count": null,
      "outputs": []
    },
    {
      "cell_type": "code",
      "source": [
        "pigeon = Animal(\"小白鴿\")\n",
        "pigeon.fly()\n",
        "\n",
        "parrot = Bird(\"小鸚鵡\", 5)\n",
        "parrot.fly()\n",
        "parrot.sing()"
      ],
      "metadata": {
        "colab": {
          "base_uri": "https://localhost:8080/"
        },
        "id": "AaCqnos8rX2-",
        "outputId": "2f81d1f8-22f0-476a-864d-c5e4e5042f84"
      },
      "execution_count": null,
      "outputs": [
        {
          "output_type": "stream",
          "name": "stdout",
          "text": [
            "小白鴿 is flying.\n",
            "5yrs old小鸚鵡 is flying.\n",
            "小鸚鵡 also loves to sing\n"
          ]
        }
      ]
    },
    {
      "cell_type": "markdown",
      "source": [
        "## 6.4 Polymorphism\n",
        "\n"
      ],
      "metadata": {
        "id": "sYfmOefbsmV-"
      }
    },
    {
      "cell_type": "code",
      "source": [
        "class Animal():\n",
        "  def fly(self):\n",
        "    print(\"speed is 20km/hr\")\n",
        "\n",
        "class Bird(Animal):\n",
        "  def fly(self,speed):\n",
        "    print(\"speed \" + str(speed) + \"km/hr\")\n",
        "\n",
        "class Plane():\n",
        "  def fly(self):\n",
        "    print(\"Speed is 1000 km/hr\")\n",
        "\n",
        "\n",
        "def fly(speed):\n",
        "  print(\"Speed \"+str(speed) + \"miles/hr\")"
      ],
      "metadata": {
        "id": "fQO1kgE0snCd"
      },
      "execution_count": null,
      "outputs": []
    },
    {
      "cell_type": "code",
      "source": [
        "animal = Animal()\n",
        "animal.fly()"
      ],
      "metadata": {
        "colab": {
          "base_uri": "https://localhost:8080/"
        },
        "id": "dwEzMsrCtzDW",
        "outputId": "4e031cca-29af-48d6-d1a4-73a09d90e2fd"
      },
      "execution_count": null,
      "outputs": [
        {
          "output_type": "stream",
          "name": "stdout",
          "text": [
            "speed is 20km/hr\n"
          ]
        }
      ]
    },
    {
      "cell_type": "code",
      "source": [
        "bird = Bird()\n",
        "bird.fly(67)"
      ],
      "metadata": {
        "colab": {
          "base_uri": "https://localhost:8080/"
        },
        "id": "RBhT875Pt7Ns",
        "outputId": "f9da47ad-c675-4704-a72a-b5f40e86bd39"
      },
      "execution_count": null,
      "outputs": [
        {
          "output_type": "stream",
          "name": "stdout",
          "text": [
            "speed 67km/hr\n"
          ]
        }
      ]
    },
    {
      "cell_type": "code",
      "source": [
        "plane = Plane()\n",
        "plane.fly()"
      ],
      "metadata": {
        "colab": {
          "base_uri": "https://localhost:8080/"
        },
        "id": "L3l6fhlzt-TJ",
        "outputId": "bd5485c1-333f-4961-e5e1-34c2d1e90b1f"
      },
      "execution_count": null,
      "outputs": [
        {
          "output_type": "stream",
          "name": "stdout",
          "text": [
            "Speed is 1000 km/hr\n"
          ]
        }
      ]
    },
    {
      "cell_type": "code",
      "source": [
        "fly(5)"
      ],
      "metadata": {
        "colab": {
          "base_uri": "https://localhost:8080/"
        },
        "id": "DBkKeK-DuC8Q",
        "outputId": "986d3e4f-1b01-4771-89b4-f141e406efac"
      },
      "execution_count": null,
      "outputs": [
        {
          "output_type": "stream",
          "name": "stdout",
          "text": [
            "Speed 5miles/hr\n"
          ]
        }
      ]
    },
    {
      "cell_type": "markdown",
      "source": [
        "#### Get private attribute"
      ],
      "metadata": {
        "id": "EUTClkthuPYt"
      }
    },
    {
      "cell_type": "code",
      "source": [
        "class Father():\n",
        "  def __init__(self,name:str):\n",
        "    self.name = name\n",
        "    self.__eye = \"Black\"\n",
        "  def getEye(self):\n",
        "    return self.__eye\n",
        "\n",
        "class Child(Father):\n",
        "  def __init__(self,name:str,eye:str):\n",
        "    super().__init__(name)\n",
        "    self.eye = eye\n",
        "    self.fatherEye = super().getEye() #get private attribute"
      ],
      "metadata": {
        "id": "5sLmakRFuD_6"
      },
      "execution_count": null,
      "outputs": []
    },
    {
      "cell_type": "code",
      "source": [
        "joe = Child(\"Joe\", \"Brown\")\n",
        "print(joe.name +\" has \"+joe.eye +\" eyes, and his dad has \"+joe.fatherEye +\" color eyes\")"
      ],
      "metadata": {
        "colab": {
          "base_uri": "https://localhost:8080/"
        },
        "id": "c_4H0aR1umiZ",
        "outputId": "b44857fb-ef59-4db7-b81d-82654d6711d2"
      },
      "execution_count": null,
      "outputs": [
        {
          "output_type": "stream",
          "name": "stdout",
          "text": [
            "Joe has Brown eyes, and his dad has Black color eyes\n"
          ]
        }
      ]
    },
    {
      "cell_type": "markdown",
      "source": [
        "### 6.5 Mutiple Inherentance"
      ],
      "metadata": {
        "id": "aT44fr_uvlLo"
      }
    },
    {
      "cell_type": "code",
      "source": [
        "class Father():\n",
        "  def say(self):\n",
        "    print(\"I'm father\")\n",
        "\n",
        "class Mother():\n",
        "  def say(self):\n",
        "    print(\"I'm mother\")\n",
        "\n",
        "class Child(Father, Mother):\n",
        "  def dance(self):\n",
        "    print(\"I'm dancing\")\n",
        "\n",
        "child1 = Child()\n",
        "child1.say()"
      ],
      "metadata": {
        "colab": {
          "base_uri": "https://localhost:8080/"
        },
        "id": "fk874V3XvMsC",
        "outputId": "6b6c3da0-41b4-4f02-edfa-c7edb42ea756"
      },
      "execution_count": null,
      "outputs": [
        {
          "output_type": "stream",
          "name": "stdout",
          "text": [
            "I'm father\n"
          ]
        }
      ]
    },
    {
      "cell_type": "markdown",
      "source": [
        "### Application of Class & Object"
      ],
      "metadata": {
        "id": "i-Fe76cO1ca0"
      }
    },
    {
      "cell_type": "code",
      "source": [
        "class Rectangle():\n",
        "  def __init__(self, width:str, height:str):\n",
        "    self.width = width\n",
        "    self.height = height\n",
        "  \n",
        "  def getArea(self):\n",
        "    return self.width* self.height\n",
        "\n",
        "class Triangle(Rectangle):\n",
        "  def __init__(self, width, height):\n",
        "    super().__init__(width, height)\n",
        "  \n",
        "  def getArea2(self):\n",
        "    return 0.5 * self.width * self.height"
      ],
      "metadata": {
        "id": "CjnhH4t01Tjv"
      },
      "execution_count": null,
      "outputs": []
    },
    {
      "cell_type": "code",
      "source": [
        "triangle = Triangle(5,6)\n",
        "print(triangle.getArea2())\n",
        "print(triangle.getArea())"
      ],
      "metadata": {
        "colab": {
          "base_uri": "https://localhost:8080/"
        },
        "id": "IZ45afi53fHJ",
        "outputId": "1ee64878-49c0-47aa-f85e-2a8ca1f6e182"
      },
      "execution_count": null,
      "outputs": [
        {
          "output_type": "stream",
          "name": "stdout",
          "text": [
            "15.0\n",
            "30\n"
          ]
        }
      ]
    },
    {
      "cell_type": "code",
      "source": [
        ""
      ],
      "metadata": {
        "id": "OGpYnATZ3jgK"
      },
      "execution_count": null,
      "outputs": []
    }
  ]
}